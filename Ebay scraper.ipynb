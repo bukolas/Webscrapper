{
 "cells": [
  {
   "cell_type": "code",
   "execution_count": 57,
   "id": "7ab20b02",
   "metadata": {},
   "outputs": [],
   "source": [
    "from bs4 import BeautifulSoup as soup\n",
    "import requests\n",
    "import pandas as pd\n",
    "from urllib.request import urlopen as uReq"
   ]
  },
  {
   "cell_type": "code",
   "execution_count": 58,
   "id": "7aa7f2e8",
   "metadata": {},
   "outputs": [],
   "source": [
    "#my_url = 'https://www.ebay.com/sch/i.html?_from=R40&_trksid=p2380057.m570.l1313&_nkw=playstation+5&_sacat=0'"
   ]
  },
  {
   "cell_type": "code",
   "execution_count": 59,
   "id": "cd27dd08",
   "metadata": {},
   "outputs": [],
   "source": [
    "#to make the search more general you can form the url\n",
    "search_term = 'data+science+books'\n",
    "my_url = 'https://www.ebay.com/sch/i.html?_from=R40&_trksid=p2380057.m570.l1313&_nkw={}&_sacat=0'.format(search_term)"
   ]
  },
  {
   "cell_type": "code",
   "execution_count": 60,
   "id": "f42e9799",
   "metadata": {},
   "outputs": [],
   "source": [
    "#client1 = requests.get(my_url)\n",
    "# or\n",
    "client2 = uReq(my_url)"
   ]
  },
  {
   "cell_type": "code",
   "execution_count": 61,
   "id": "db093174",
   "metadata": {},
   "outputs": [],
   "source": [
    "#soup = soup(client1.text, 'html.parser')\n",
    "#soup\n",
    "page_html = client2.read()"
   ]
  },
  {
   "cell_type": "code",
   "execution_count": 62,
   "id": "60dc1b12",
   "metadata": {},
   "outputs": [],
   "source": [
    "page_soup = soup(page_html)"
   ]
  },
  {
   "cell_type": "code",
   "execution_count": 63,
   "id": "57da380d",
   "metadata": {},
   "outputs": [],
   "source": [
    "#page_soup.find('span',class_=\"s-item__price\")\n",
    "#span_tags = page_soup.findAll('span',{\"class\":\"s-item__price\"})[4].text\n",
    "span_tags = page_soup.findAll('span',{\"class\":\"s-item__price\"})"
   ]
  },
  {
   "cell_type": "code",
   "execution_count": 69,
   "id": "8be27027",
   "metadata": {},
   "outputs": [
    {
     "name": "stdout",
     "output_type": "stream",
     "text": [
      "['99.03', '342.50', '499.00 to EUR 519.00', '93.34', '425.83', '370.24', '10.50', '462.85', '322.00', '360.98', '136.06 to EUR 888.68', '361.02', '374.91', '399.00', '105.53', '565.92', '190.00', '334.18', '460.31 to EUR 536.88', '9.25', '231.42', '9.25', '456.68', '347.14', '347.14', '554.39', '401.75', '425.90', '462.85 to EUR 555.42', '409.57', '629.47', '448.97', '140.02', '420.07', '462.86', '546.17', '472.10 to EUR 564.67', '229.87', '324.00', '546.16', '282.34', '439.71', '231.42', '582.27', '462.83', '451.00', '499.00', '240.68', '390.00', '490.00', '449.90', '384.17', '171.00', '212.90', '310.11', '58.32', '466.74', '301.00', '245.04', '291.60', '210.60', '233.37', '124.51', '254.57', '5,050.00', '231.43', '370.28', '146.73', '270.31', '468.59', '393.43']\n"
     ]
    }
   ],
   "source": [
    "prices =[]\n",
    "\n",
    "for items in span_tags:\n",
    "    prices.append(items.text)\n",
    "    #prices.append(items.text[4:])\n",
    "    \n",
    "prices = price[1:]\n",
    "print(prices)\n",
    "    "
   ]
  },
  {
   "cell_type": "code",
   "execution_count": 70,
   "id": "d5903d7b",
   "metadata": {},
   "outputs": [
    {
     "data": {
      "text/plain": [
       "str"
      ]
     },
     "execution_count": 70,
     "metadata": {},
     "output_type": "execute_result"
    }
   ],
   "source": [
    "prices = [(str(i).replace(\"EUR \", \"\")) for i in prices]\n",
    "prices = [(str(i).replace(\"$\", \"\")) for i in prices]\n",
    "type(prices[0])"
   ]
  },
  {
   "cell_type": "code",
   "execution_count": 71,
   "id": "6b38b359",
   "metadata": {},
   "outputs": [],
   "source": [
    "#errors = coerce put nan in string like '489.69 to EUR 571.15' in prices \n",
    "numeric_prices = pd.to_numeric(prices, errors = 'coerce')"
   ]
  },
  {
   "cell_type": "code",
   "execution_count": 72,
   "id": "1e0c9ecf",
   "metadata": {},
   "outputs": [
    {
     "data": {
      "text/plain": [
       "array([ 99.03, 342.5 ,    nan,  93.34, 425.83, 370.24,  10.5 , 462.85,\n",
       "       322.  , 360.98,    nan, 361.02, 374.91, 399.  , 105.53, 565.92,\n",
       "       190.  , 334.18,    nan,   9.25, 231.42,   9.25, 456.68, 347.14,\n",
       "       347.14, 554.39, 401.75, 425.9 ,    nan, 409.57, 629.47, 448.97,\n",
       "       140.02, 420.07, 462.86, 546.17,    nan, 229.87, 324.  , 546.16,\n",
       "       282.34, 439.71, 231.42, 582.27, 462.83, 451.  , 499.  , 240.68,\n",
       "       390.  , 490.  , 449.9 , 384.17, 171.  , 212.9 , 310.11,  58.32,\n",
       "       466.74, 301.  , 245.04, 291.6 , 210.6 , 233.37, 124.51, 254.57,\n",
       "          nan, 231.43, 370.28, 146.73, 270.31, 468.59, 393.43])"
      ]
     },
     "execution_count": 72,
     "metadata": {},
     "output_type": "execute_result"
    }
   ],
   "source": [
    "numeric_prices"
   ]
  },
  {
   "cell_type": "code",
   "execution_count": 73,
   "id": "594fffa3",
   "metadata": {},
   "outputs": [],
   "source": [
    "#make a dataframe\n",
    "df = pd.DataFrame(numeric_prices)\n",
    "df=df.dropna()"
   ]
  },
  {
   "cell_type": "code",
   "execution_count": 74,
   "id": "2670d934",
   "metadata": {},
   "outputs": [],
   "source": [
    "df.to_csv('PS5 prices.csv')"
   ]
  },
  {
   "cell_type": "code",
   "execution_count": null,
   "id": "922133e7",
   "metadata": {},
   "outputs": [],
   "source": [
    "df.to_csv('{} prices.csv'.format(search_term))"
   ]
  }
 ],
 "metadata": {
  "kernelspec": {
   "display_name": "Python 3",
   "language": "python",
   "name": "python3"
  },
  "language_info": {
   "codemirror_mode": {
    "name": "ipython",
    "version": 3
   },
   "file_extension": ".py",
   "mimetype": "text/x-python",
   "name": "python",
   "nbconvert_exporter": "python",
   "pygments_lexer": "ipython3",
   "version": "3.8.8"
  }
 },
 "nbformat": 4,
 "nbformat_minor": 5
}
