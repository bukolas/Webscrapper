{
 "cells": [
  {
   "cell_type": "code",
   "execution_count": 19,
   "id": "b2887e80",
   "metadata": {},
   "outputs": [],
   "source": [
    "from bs4 import BeautifulSoup\n",
    "import requests, openpyxl"
   ]
  },
  {
   "cell_type": "code",
   "execution_count": 23,
   "id": "c32937f0",
   "metadata": {},
   "outputs": [
    {
     "name": "stdout",
     "output_type": "stream",
     "text": [
      "['Sheet']\n"
     ]
    }
   ],
   "source": [
    "excel = openpyxl.Workbook()\n",
    "print(excel.sheetnames)\n",
    "sheet = excel.active\n",
    "sheet.title ='Top Rated Movies'\n",
    "sheet.title\n",
    "sheet.append(['Movie Rank','Movie Name','Movie Year','Movie Rating'])"
   ]
  },
  {
   "cell_type": "code",
   "execution_count": 25,
   "id": "828cf1f3",
   "metadata": {},
   "outputs": [],
   "source": [
    "try:\n",
    "    source = requests.get(\"https://www.imdb.com/chart/top/\")#source is the response object\n",
    "    source.raise_for_status()# if the website is incorrect it will print error\n",
    "    \n",
    "    soup = BeautifulSoup(source.text, 'html.parser') #it is use to parse all the html code/content on the site\n",
    "    #print(soup)\n",
    "    \n",
    "    #extract only the movie details, first inspect the webpage for only the movies details.  \n",
    "    #use underscore when specifying a class because class is a special word in python \n",
    "    #find all the 'tr' tag by using the method find_all() and print the lenght to check\n",
    "    \n",
    "    \n",
    "    \n",
    "    movies = soup.find('tbody', class_ = 'lister-list').find_all('tr')\n",
    "    #print(len(movies))\n",
    "    \n",
    "    for movie in movies:\n",
    "        #.a returns the <a href section\n",
    "        #.a.text returns only the movie title\n",
    "        name = movie.find('td', class_='titleColumn').a.text\n",
    "        \n",
    "        #strip removes the new line character and spaces. split is going to split the text into list\n",
    "        rank = movie.find('td', class_='titleColumn').get_text(strip = True).split('.')[0]\n",
    "        \n",
    "        year = movie.find('td', class_='titleColumn').span.text.strip('()')\n",
    "        \n",
    "        rating = movie.find('td', class_='ratingColumn imdbRating').strong.text\n",
    "        \n",
    "        #print(rank, name, year, rating)\n",
    "        \n",
    "        sheet.append([rank, name, year, rating])\n",
    "        \n",
    "except Exception as e:\n",
    "    print(e)\n",
    "    \n",
    "excel.save('IMDB Movie Rating.xlsx')"
   ]
  },
  {
   "cell_type": "code",
   "execution_count": null,
   "id": "947fec6b",
   "metadata": {},
   "outputs": [],
   "source": [
    "\n"
   ]
  }
 ],
 "metadata": {
  "kernelspec": {
   "display_name": "Python 3",
   "language": "python",
   "name": "python3"
  },
  "language_info": {
   "codemirror_mode": {
    "name": "ipython",
    "version": 3
   },
   "file_extension": ".py",
   "mimetype": "text/x-python",
   "name": "python",
   "nbconvert_exporter": "python",
   "pygments_lexer": "ipython3",
   "version": "3.8.8"
  }
 },
 "nbformat": 4,
 "nbformat_minor": 5
}
