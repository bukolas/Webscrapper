{
 "cells": [
  {
   "cell_type": "code",
   "execution_count": 17,
   "metadata": {},
   "outputs": [],
   "source": [
    "import requests\n",
    "from bs4 import BeautifulSoup\n",
    "import pandas as pd"
   ]
  },
  {
   "cell_type": "code",
   "execution_count": 18,
   "metadata": {},
   "outputs": [],
   "source": [
    "quotes =[]\n",
    "\n",
    "for pageNumber in range(1,11):\n",
    "\n",
    "    url =f\"https://quotes.toscrape.com/page/{pageNumber}\"\n",
    "    r = requests.get(url)\n",
    "\n",
    "    soup = BeautifulSoup(r.content, \"html.parser\")\n",
    "\n",
    "    items = soup.find_all(\"div\", {\"class\":\"quote\"})\n",
    "\n",
    "    for item in items:\n",
    "        quote = {}\n",
    "        quote[\"quote\"] = item.find(\"span\", {\"class\":\"text\"}).text\n",
    "        quote [\"author\"] = item.find(\"small\",{\"class\":\"author\"}).text\n",
    "        quotes.append(quote)\n",
    "    #quotes\n",
    "    \n",
    "\n",
    "#because the quote has 10 pages, we will loop over the items "
   ]
  },
  {
   "cell_type": "code",
   "execution_count": 19,
   "metadata": {},
   "outputs": [],
   "source": [
    "df = pd.DataFrame(quotes)\n",
    "df.to_csv('quotes.csv')"
   ]
  },
  {
   "cell_type": "code",
   "execution_count": null,
   "metadata": {},
   "outputs": [],
   "source": []
  }
 ],
 "metadata": {
  "kernelspec": {
   "display_name": "Python 3",
   "language": "python",
   "name": "python3"
  },
  "language_info": {
   "codemirror_mode": {
    "name": "ipython",
    "version": 3
   },
   "file_extension": ".py",
   "mimetype": "text/x-python",
   "name": "python",
   "nbconvert_exporter": "python",
   "pygments_lexer": "ipython3",
   "version": "3.7.6"
  },
  "orig_nbformat": 4
 },
 "nbformat": 4,
 "nbformat_minor": 2
}
